{
 "cells": [
  {
   "cell_type": "code",
   "execution_count": 1,
   "metadata": {},
   "outputs": [],
   "source": [
    "import pandas as pd\n",
    "import numpy as np\n",
    "import matplotlib.pyplot as plt\n",
    "%matplotlib inline\n",
    "\n",
    "import warnings\n",
    "warnings.filterwarnings('ignore')"
   ]
  },
  {
   "cell_type": "code",
   "execution_count": 2,
   "metadata": {},
   "outputs": [],
   "source": [
    "dataset = pd.read_csv('data/movies/ratings.csv')\n",
    "dataset.columns = ['user_id', 'item_id', 'rating', 'timestamp']"
   ]
  },
  {
   "cell_type": "code",
   "execution_count": 3,
   "metadata": {},
   "outputs": [],
   "source": [
    "dataset.user_id = dataset.user_id.astype('category').cat.codes.values\n",
    "dataset.item_id = dataset.item_id.astype('category').cat.codes.values\n",
    "sorted_dataset = dataset.sort_values(by='timestamp')"
   ]
  },
  {
   "cell_type": "code",
   "execution_count": 4,
   "metadata": {},
   "outputs": [],
   "source": [
    "from sklearn.model_selection import train_test_split\n",
    "train, test = train_test_split(sorted_dataset, shuffle=False, test_size=0.1)"
   ]
  },
  {
   "cell_type": "code",
   "execution_count": 5,
   "metadata": {},
   "outputs": [
    {
     "name": "stderr",
     "output_type": "stream",
     "text": [
      "Using TensorFlow backend.\n"
     ]
    }
   ],
   "source": [
    "import keras\n",
    "from IPython.display import SVG\n",
    "from keras.optimizers import Adam\n",
    "from keras.utils.vis_utils import model_to_dot\n",
    "n_users, n_movies = len(dataset.user_id.unique()), len(dataset.item_id.unique())\n",
    "n_latent_factors = 3"
   ]
  },
  {
   "cell_type": "code",
   "execution_count": 6,
   "metadata": {},
   "outputs": [
    {
     "name": "stdout",
     "output_type": "stream",
     "text": [
      "__________________________________________________________________________________________________\n",
      "Layer (type)                    Output Shape         Param #     Connected to                     \n",
      "==================================================================================================\n",
      "Item (InputLayer)               (None, 1)            0                                            \n",
      "__________________________________________________________________________________________________\n",
      "User (InputLayer)               (None, 1)            0                                            \n",
      "__________________________________________________________________________________________________\n",
      "Movie-Embedding (Embedding)     (None, 1, 3)         27201       Item[0][0]                       \n",
      "__________________________________________________________________________________________________\n",
      "User-Embedding (Embedding)      (None, 1, 3)         2016        User[0][0]                       \n",
      "__________________________________________________________________________________________________\n",
      "FlattenMovies (Flatten)         (None, 3)            0           Movie-Embedding[0][0]            \n",
      "__________________________________________________________________________________________________\n",
      "FlattenUsers (Flatten)          (None, 3)            0           User-Embedding[0][0]             \n",
      "__________________________________________________________________________________________________\n",
      "DotProduct (Merge)              (None, 1)            0           FlattenMovies[0][0]              \n",
      "                                                                 FlattenUsers[0][0]               \n",
      "==================================================================================================\n",
      "Total params: 29,217\n",
      "Trainable params: 29,217\n",
      "Non-trainable params: 0\n",
      "__________________________________________________________________________________________________\n"
     ]
    }
   ],
   "source": [
    "# Matrix factorisation model\n",
    "movie_input = keras.layers.Input(shape=[1],name='Item')\n",
    "movie_embedding = keras.layers.Embedding(n_movies + 1, n_latent_factors, name='Movie-Embedding')(movie_input)\n",
    "movie_vec = keras.layers.Flatten(name='FlattenMovies')(movie_embedding)\n",
    "\n",
    "user_input = keras.layers.Input(shape=[1],name='User')\n",
    "user_embedding = keras.layers.Embedding(n_users + 1, n_latent_factors,name='User-Embedding')(user_input)\n",
    "user_vec = keras.layers.Flatten(name='FlattenUsers')(user_embedding)\n",
    "\n",
    "prod = keras.layers.merge([movie_vec, user_vec], mode='dot',name='DotProduct')\n",
    "model_mf = keras.Model([user_input, movie_input], prod)\n",
    "model_mf.compile('adam', 'mean_squared_error')\n",
    "model_mf.summary()"
   ]
  },
  {
   "cell_type": "code",
   "execution_count": 7,
   "metadata": {},
   "outputs": [
    {
     "name": "stdout",
     "output_type": "stream",
     "text": [
      "Epoch 1/15\n",
      "90003/90003 [==============================] - 3s 35us/step - loss: 12.1443\n",
      "Epoch 2/15\n",
      "90003/90003 [==============================] - 3s 37us/step - loss: 5.6589\n",
      "Epoch 3/15\n",
      "90003/90003 [==============================] - 3s 35us/step - loss: 2.9996\n",
      "Epoch 4/15\n",
      "90003/90003 [==============================] - 3s 39us/step - loss: 2.0126\n",
      "Epoch 5/15\n",
      "90003/90003 [==============================] - 4s 40us/step - loss: 1.5305\n",
      "Epoch 6/15\n",
      "90003/90003 [==============================] - 3s 37us/step - loss: 1.2653\n",
      "Epoch 7/15\n",
      "90003/90003 [==============================] - 3s 38us/step - loss: 1.1050\n",
      "Epoch 8/15\n",
      "90003/90003 [==============================] - 4s 41us/step - loss: 1.0015\n",
      "Epoch 9/15\n",
      "90003/90003 [==============================] - 4s 43us/step - loss: 0.9302\n",
      "Epoch 10/15\n",
      "90003/90003 [==============================] - 4s 45us/step - loss: 0.8797\n",
      "Epoch 11/15\n",
      "90003/90003 [==============================] - 4s 47us/step - loss: 0.8422\n",
      "Epoch 12/15\n",
      "90003/90003 [==============================] - 4s 47us/step - loss: 0.8135\n",
      "Epoch 13/15\n",
      "90003/90003 [==============================] - 4s 47us/step - loss: 0.7907\n",
      "Epoch 14/15\n",
      "90003/90003 [==============================] - 4s 47us/step - loss: 0.7727\n",
      "Epoch 15/15\n",
      "90003/90003 [==============================] - 4s 47us/step - loss: 0.7581\n"
     ]
    }
   ],
   "source": [
    "history_mf = model_mf.fit([train.user_id, train.item_id], train.rating, epochs=15)"
   ]
  },
  {
   "cell_type": "code",
   "execution_count": 8,
   "metadata": {},
   "outputs": [
    {
     "data": {
      "text/plain": [
       "Text(0,0.5,'Train Error')"
      ]
     },
     "execution_count": 8,
     "metadata": {},
     "output_type": "execute_result"
    },
    {
     "data": {
      "image/png": "[encoded data removed]",
      "text/plain": [
       "<matplotlib.figure.Figure at 0x7f4397e764a8>"
      ]
     },
     "metadata": {},
     "output_type": "display_data"
    }
   ],
   "source": [
    "pd.Series(history_mf.history['loss']).plot()\n",
    "plt.xlabel(\"Epoch\")\n",
    "plt.ylabel(\"Train Error\")"
   ]
  },
  {
   "cell_type": "code",
   "execution_count": 9,
   "metadata": {},
   "outputs": [
    {
     "name": "stdout",
     "output_type": "stream",
     "text": [
      "__________________________________________________________________________________________________\n",
      "Layer (type)                    Output Shape         Param #     Connected to                     \n",
      "==================================================================================================\n",
      "Item (InputLayer)               (None, 1)            0                                            \n",
      "__________________________________________________________________________________________________\n",
      "User (InputLayer)               (None, 1)            0                                            \n",
      "__________________________________________________________________________________________________\n",
      "Movie-Embedding (Embedding)     (None, 1, 8)         72536       Item[0][0]                       \n",
      "__________________________________________________________________________________________________\n",
      "User-Embedding (Embedding)      (None, 1, 5)         3360        User[0][0]                       \n",
      "__________________________________________________________________________________________________\n",
      "FlattenMovies (Flatten)         (None, 8)            0           Movie-Embedding[0][0]            \n",
      "__________________________________________________________________________________________________\n",
      "FlattenUsers (Flatten)          (None, 5)            0           User-Embedding[0][0]             \n",
      "__________________________________________________________________________________________________\n",
      "dropout_1 (Dropout)             (None, 8)            0           FlattenMovies[0][0]              \n",
      "__________________________________________________________________________________________________\n",
      "dropout_2 (Dropout)             (None, 5)            0           FlattenUsers[0][0]               \n",
      "__________________________________________________________________________________________________\n",
      "Concat (Merge)                  (None, 13)           0           dropout_1[0][0]                  \n",
      "                                                                 dropout_2[0][0]                  \n",
      "__________________________________________________________________________________________________\n",
      "FullyConnected-1 (Dense)        (None, 64)           896         Concat[0][0]                     \n",
      "__________________________________________________________________________________________________\n",
      "FullyConnected-2 (Dense)        (None, 32)           2080        FullyConnected-1[0][0]           \n",
      "__________________________________________________________________________________________________\n",
      "FullyConnected-3 (Dense)        (None, 16)           528         FullyConnected-2[0][0]           \n",
      "__________________________________________________________________________________________________\n",
      "Activation (Dense)              (None, 1)            17          FullyConnected-3[0][0]           \n",
      "==================================================================================================\n",
      "Total params: 79,417\n",
      "Trainable params: 79,417\n",
      "Non-trainable params: 0\n",
      "__________________________________________________________________________________________________\n"
     ]
    }
   ],
   "source": [
    "# Neural networks model\n",
    "\n",
    "n_latent_factors_user = 5\n",
    "n_latent_factors_movie = 8\n",
    "\n",
    "movie_input = keras.layers.Input(shape=[1],name='Item')\n",
    "movie_embedding = keras.layers.Embedding(n_movies + 1, n_latent_factors_movie, name='Movie-Embedding')(movie_input)\n",
    "movie_vec = keras.layers.Flatten(name='FlattenMovies')(movie_embedding)\n",
    "movie_vec = keras.layers.Dropout(0.2)(movie_vec)\n",
    "\n",
    "\n",
    "user_input = keras.layers.Input(shape=[1],name='User')\n",
    "user_vec = keras.layers.Flatten(name='FlattenUsers')(keras.layers.Embedding(n_users + 1, n_latent_factors_user,name='User-Embedding')(user_input))\n",
    "user_vec = keras.layers.Dropout(0.2)(user_vec)\n",
    "\n",
    "\n",
    "concat = keras.layers.merge([movie_vec, user_vec], mode='concat',name='Concat')\n",
    "concat_dropout = keras.layers.Dropout(0.2)(concat)\n",
    "dense = keras.layers.Dense(128,name='FullyConnected')(concat)\n",
    "dropout_1 = keras.layers.Dropout(0.2,name='Dropout')(dense)\n",
    "dense_2 = keras.layers.Dense(64,name='FullyConnected-1')(concat)\n",
    "dropout_2 = keras.layers.Dropout(0.2,name='Dropout')(dense_2)\n",
    "dense_3 = keras.layers.Dense(32,name='FullyConnected-2')(dense_2)\n",
    "dropout_3 = keras.layers.Dropout(0.2,name='Dropout')(dense_3)\n",
    "dense_4 = keras.layers.Dense(16,name='FullyConnected-3', activation='relu')(dense_3)\n",
    "\n",
    "\n",
    "result = keras.layers.Dense(1, activation='relu',name='Activation')(dense_4)\n",
    "adam = Adam(lr=0.005)\n",
    "model_nn = keras.Model([user_input, movie_input], result)\n",
    "model_nn.compile(optimizer=adam,loss= 'mean_absolute_error')\n",
    "model_nn.summary()"
   ]
  },
  {
   "cell_type": "code",
   "execution_count": 10,
   "metadata": {},
   "outputs": [
    {
     "name": "stdout",
     "output_type": "stream",
     "text": [
      "Epoch 1/15\n",
      "90003/90003 [==============================] - 8s 90us/step - loss: 0.7480\n",
      "Epoch 2/15\n",
      "90003/90003 [==============================] - 6s 72us/step - loss: 0.6890\n",
      "Epoch 3/15\n",
      "90003/90003 [==============================] - 6s 70us/step - loss: 0.6692\n",
      "Epoch 4/15\n",
      "90003/90003 [==============================] - 9s 97us/step - loss: 0.6594\n",
      "Epoch 5/15\n",
      "90003/90003 [==============================] - 8s 94us/step - loss: 0.6524\n",
      "Epoch 6/15\n",
      "90003/90003 [==============================] - 9s 97us/step - loss: 0.6495\n",
      "Epoch 7/15\n",
      "90003/90003 [==============================] - 8s 93us/step - loss: 0.6453\n",
      "Epoch 8/15\n",
      "90003/90003 [==============================] - 10s 107us/step - loss: 0.6417\n",
      "Epoch 9/15\n",
      "90003/90003 [==============================] - 8s 93us/step - loss: 0.6389\n",
      "Epoch 10/15\n",
      "90003/90003 [==============================] - 9s 95us/step - loss: 0.6369\n",
      "Epoch 11/15\n",
      "90003/90003 [==============================] - 9s 100us/step - loss: 0.6356\n",
      "Epoch 12/15\n",
      "90003/90003 [==============================] - 8s 92us/step - loss: 0.6337\n",
      "Epoch 13/15\n",
      "90003/90003 [==============================] - 9s 99us/step - loss: 0.6324\n",
      "Epoch 14/15\n",
      "90003/90003 [==============================] - 9s 97us/step - loss: 0.6307\n",
      "Epoch 15/15\n",
      "90003/90003 [==============================] - 10s 106us/step - loss: 0.6291\n"
     ]
    }
   ],
   "source": [
    "history_nn = model_nn.fit([train.user_id, train.item_id], train.rating, epochs=15)"
   ]
  },
  {
   "cell_type": "code",
   "execution_count": 11,
   "metadata": {},
   "outputs": [
    {
     "data": {
      "text/plain": [
       "Text(0,0.5,'Train Error')"
      ]
     },
     "execution_count": 11,
     "metadata": {},
     "output_type": "execute_result"
    },
    {
     "data": {
      "image/png": "[encoded data removed]",
      "text/plain": [
       "<matplotlib.figure.Figure at 0x7f438a2a0ef0>"
      ]
     },
     "metadata": {},
     "output_type": "display_data"
    }
   ],
   "source": [
    "pd.Series(history_nn.history['loss']).plot()\n",
    "plt.xlabel(\"Epoch\")\n",
    "plt.ylabel(\"Train Error\")"
   ]
  },
  {
   "cell_type": "code",
   "execution_count": 12,
   "metadata": {},
   "outputs": [
    {
     "name": "stdout",
     "output_type": "stream",
     "text": [
      "Matrix factorisation MSE: 3.15638\n",
      "Neural networks MSE: 0.82312\n"
     ]
    }
   ],
   "source": [
    "from sklearn.metrics import mean_absolute_error\n",
    "\n",
    "def round_of_rating(number):\n",
    "        return np.round(number * 2) / 2\n",
    "    \n",
    "y_pred_mf = np.array(list(map(round_of_rating, model_mf.predict([test.user_id, test.item_id]))))\n",
    "y_pred_nn = np.array(list(map(round_of_rating, model_nn.predict([test.user_id, test.item_id]))))\n",
    "y_true = test.rating\n",
    "\n",
    "mse_mf = mean_absolute_error(y_true, y_pred_mf)\n",
    "mse_nn = mean_absolute_error(y_true, y_pred_nn)\n",
    "print('Matrix factorisation MSE:', np.round(mse_mf,5))\n",
    "print('Neural networks MSE:', np.round(mse_nn, 5))"
   ]
  },
  {
   "cell_type": "code",
   "execution_count": 13,
   "metadata": {},
   "outputs": [
    {
     "name": "stdout",
     "output_type": "stream",
     "text": [
      "Matrix factorisation Precision/Recall: 0.022297770223 0.022297770223\n",
      "Neural networks Precision/Recall: 0.202079792021 0.202079792021\n"
     ]
    }
   ],
   "source": [
    "from sklearn.metrics import precision_score\n",
    "from sklearn.metrics import recall_score\n",
    "\n",
    "def round_of_rating(number):\n",
    "        return np.round(number * 2) / 2\n",
    "    \n",
    "y_pred_mf = 2 * np.array(list(map(round_of_rating, model_mf.predict([test.user_id, test.item_id]))))\n",
    "y_pred_nn = 2 * np.array(list(map(round_of_rating, model_nn.predict([test.user_id, test.item_id]))))\n",
    "y_true = 2 * test.rating\n",
    "\n",
    "precision_mf = precision_score(y_true, y_pred_mf, average='micro')\n",
    "recall_mf = recall_score(y_true, y_pred_mf, average='micro')\n",
    "\n",
    "precision_nn = precision_score(y_true, y_pred_nn, average='micro')\n",
    "recall_nn = recall_score(y_true, y_pred_nn, average='micro')\n",
    "\n",
    "print('Matrix factorisation Precision/Recall:', precision_mf, recall_mf)\n",
    "print('Neural networks Precision/Recall:', precision_nn, recall_nn)"
   ]
  },
  {
   "cell_type": "code",
   "execution_count": 21,
   "metadata": {},
   "outputs": [
    {
     "data": {
      "text/plain": [
       "8.0     2433\n",
       "7.0     1405\n",
       "10.0    1370\n",
       "6.0     1254\n",
       "9.0     1086\n",
       "5.0      776\n",
       "4.0      771\n",
       "3.0      397\n",
       "2.0      295\n",
       "1.0      214\n",
       "Name: rating, dtype: int64"
      ]
     },
     "execution_count": 21,
     "metadata": {},
     "output_type": "execute_result"
    }
   ],
   "source": [
    "y_true.value_counts()"
   ]
  }
 ],
 "metadata": {
  "kernelspec": {
   "display_name": "Python 3",
   "language": "python",
   "name": "python3"
  },
  "language_info": {
   "codemirror_mode": {
    "name": "ipython",
    "version": 3
   },
   "file_extension": ".py",
   "mimetype": "text/x-python",
   "name": "python",
   "nbconvert_exporter": "python",
   "pygments_lexer": "ipython3",
   "version": "3.6.3"
  }
 },
 "nbformat": 4,
 "nbformat_minor": 2
}
